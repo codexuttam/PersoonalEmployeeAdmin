{
  "nbformat": 4,
  "nbformat_minor": 0,
  "metadata": {
    "colab": {
      "provenance": [],
      "mount_file_id": "1l_WmMm434XDFS3Ps6NyRZsDHSHPjlGGy",
      "authorship_tag": "ABX9TyNNd7RoU4yBT7w98Jv6WOHX",
      "include_colab_link": true
    },
    "kernelspec": {
      "name": "python3",
      "display_name": "Python 3"
    },
    "language_info": {
      "name": "python"
    }
  },
  "cells": [
    {
      "cell_type": "markdown",
      "metadata": {
        "id": "view-in-github",
        "colab_type": "text"
      },
      "source": [
        "<a href=\"https://colab.research.google.com/github/codexuttam/PersoonalEmployeeAdmin/blob/main/assignment_2.ipynb\" target=\"_parent\"><img src=\"https://colab.research.google.com/assets/colab-badge.svg\" alt=\"Open In Colab\"/></a>"
      ]
    },
    {
      "cell_type": "markdown",
      "source": [
        "**Theory Questions**\n"
      ],
      "metadata": {
        "id": "hN96eVbxHY2Z"
      }
    },
    {
      "cell_type": "markdown",
      "source": [
        "1.What are data structures, and why are they important?\n",
        "\n",
        " ->  Data structures are ways of organizing and storing data in a computer so it can be used efficiently. They help in managing data for fast access, better memory use, and smooth execution of algorithms. Common examples include arrays, linked lists, stacks, queues, trees, and graphs. Data structures are essential because they make programs faster, more organized, and capable of solving real-world problems effectively.\n"
      ],
      "metadata": {
        "id": "HWsgRU-vHjKi"
      }
    },
    {
      "cell_type": "markdown",
      "source": [
        "2. Explain the difference between mutable and immutable data types with examples.\n",
        "\n",
        " -> Mutable data types can be changed after they are created, while immutable data types cannot be changed once created."
      ],
      "metadata": {
        "id": "jyzBaBMwINCC"
      }
    },
    {
      "cell_type": "code",
      "source": [
        "my_list=[1,2,3,4]\n",
        "my_list.append(5)\n",
        "print(my_list) #here the original list is changed"
      ],
      "metadata": {
        "colab": {
          "base_uri": "https://localhost:8080/"
        },
        "id": "NOI4pFZOIlsp",
        "outputId": "1b30fc7a-c810-458a-be02-3271c7944524"
      },
      "execution_count": null,
      "outputs": [
        {
          "output_type": "stream",
          "name": "stdout",
          "text": [
            "[1, 2, 3, 4, 5]\n"
          ]
        }
      ]
    },
    {
      "cell_type": "markdown",
      "source": [],
      "metadata": {
        "id": "oe5AZZGcJgJU"
      }
    },
    {
      "cell_type": "code",
      "source": [
        "my_string=\"Hello\"\n",
        "my_string=my_string+\"World\"\n",
        "print(my_string) #here u can see that we created a new string. the first string is unchnaged."
      ],
      "metadata": {
        "colab": {
          "base_uri": "https://localhost:8080/"
        },
        "id": "6Zmh8UHyJDjv",
        "outputId": "52cf3aa7-5ce7-4f1e-d047-28f90ceedc81"
      },
      "execution_count": null,
      "outputs": [
        {
          "output_type": "stream",
          "name": "stdout",
          "text": [
            "HelloWorld\n"
          ]
        }
      ]
    },
    {
      "cell_type": "markdown",
      "source": [
        "3. What are the main differences between lists and tuples in Python?\n",
        "\n",
        " -> The main difference between lists and tuples is that lists are mutable, meaning their elements can be changed, added, or removed, while tuples are immutable and cannot be modified after creation. Lists use square brackets [], whereas tuples use parentheses (). Because tuples are immutable, they are generally faster and used for fixed data, while lists are more flexible and used when the data may change. Additionally, lists have more built-in methods than tuples, making them more versatile for dynamic operations."
      ],
      "metadata": {
        "id": "Xo6r6rl1Jvel"
      }
    },
    {
      "cell_type": "markdown",
      "source": [
        "4. Describe how dictionaries store data.\n",
        "\n",
        " -> Dictionaries in Python store data as key-value pairs, where each unique key maps to a specific value. Internally, Python uses a hash table to store these pairs, allowing for fast data access. When you add a key, Python calculates its hash (a unique integer) to determine where to store the value in memory. This makes retrieving, updating, or deleting data very efficient, typically in constant time. For example, in student = {\"name\": \"Alice\", \"age\": 20}, \"name\" and \"age\" are keys, and \"Alice\" and 20 are their corresponding values."
      ],
      "metadata": {
        "id": "8K6ysxRSKQPR"
      }
    },
    {
      "cell_type": "markdown",
      "source": [
        "5. Why might you use a set instead of a list in Python?\n",
        "\n",
        " -> I might use a set instead of a list in Python when I need to store unique elements and don’t care about the order. Sets automatically remove duplicates and offer faster lookup, insertion, and deletion compared to lists because they are implemented using hash tables. For example, if you're checking membership (e.g., if an item exists), a set is more efficient than a list. However, sets are unordered and don’t allow indexing like lists do."
      ],
      "metadata": {
        "id": "Ucp60vUDKp3w"
      }
    },
    {
      "cell_type": "markdown",
      "source": [
        "6. What is a string in Python, and how is it different from a list?\n",
        "\n",
        " -> In Python, a string is a sequence of characters enclosed in single (' ') or double (\" \") quotes, like \"hello\". It is an immutable data type, meaning its contents cannot be changed after creation.\n",
        "\n",
        "  A list, on the other hand, is a mutable sequence that can contain elements of different data types, including strings, numbers, or even other lists.\n"
      ],
      "metadata": {
        "id": "120A2ETBLJc6"
      }
    },
    {
      "cell_type": "markdown",
      "source": [
        "7. How do tuples ensure data integrity in Python?\n",
        "\n",
        " -> Tuples ensure data integrity in Python by being immutable, meaning their contents cannot be changed after creation. Once a tuple is defined, you cannot add, remove, or modify its elements. This protects the data from accidental changes, making tuples ideal for storing constant or fixed data (like coordinates, configuration settings, or database keys). Their immutability also allows them to be used as keys in dictionaries or stored in sets, unlike lists. This reliability helps maintain consistent, trustworthy data throughout a program.\n"
      ],
      "metadata": {
        "id": "skOlX7MOLmKY"
      }
    },
    {
      "cell_type": "markdown",
      "source": [
        "8. What is a hash table, and how does it relate to dictionaries in Python?\n",
        "\n",
        " -> A hash table is a data structure that stores data in key-value pairs and uses a hash function to compute an index (called a hash) where each key-value pair is stored. This allows for very fast data lookup, insertion, and deletion—typically in constant time.\n",
        "\n",
        "  In Python, the dictionary (dict) is implemented using a hash table. When you create a dictionary, Python hashes each key to determine where to store the associated value in memory. This is why keys in dictionaries must be immutable (like strings, numbers, or tuples)—so their hash values don’t change.\n"
      ],
      "metadata": {
        "id": "ypwoyjAPL_k2"
      }
    },
    {
      "cell_type": "markdown",
      "source": [
        "9. Can lists contain different data types in Python?\n",
        "\n",
        " -> Yes, lists can contain different data types in Python 3.\n"
      ],
      "metadata": {
        "id": "yLu1PMvbMXso"
      }
    },
    {
      "cell_type": "markdown",
      "source": [
        "10. Explain why strings are immutable in Python.\n",
        "\n",
        " -> Strings are immutable in Python to ensure data integrity, security, and performance. Once a string is created, it cannot be changed—any operation that seems to modify a string (like replace() or +=) actually creates a new string.\n",
        "\n",
        " This immutability offers several benefits like safety, performance, hashing."
      ],
      "metadata": {
        "id": "MuVzhyBNMoaI"
      }
    },
    {
      "cell_type": "markdown",
      "source": [
        "11. What advantages do dictionaries offer over lists for certain tasks?\n",
        "\n",
        " -> Dictionaries offer key advantages over lists when tasks involve quick lookups and meaningful associations between data. Unlike lists, which use numeric indexes, dictionaries store data as key-value pairs, allowing for faster access to values using unique keys. This makes code more readable and organized, especially when dealing with structured data like user profiles or configurations. For example, accessing a student's age using student[\"age\"] in a dictionary is more intuitive than relying on a specific index in a list. Overall, dictionaries are ideal when data needs to be identified and accessed using descriptive keys."
      ],
      "metadata": {
        "id": "vpjaQgFTM_zr"
      }
    },
    {
      "cell_type": "markdown",
      "source": [
        "12. Describe a scenario where using a tuple would be preferable over a list.\n",
        "\n",
        " -> A tuple is preferable over a list when you need to store a fixed collection of items that should not change throughout the program. For example, if you're storing the coordinates of a location like (latitude, longitude), using a tuple ensures the values remain constant and are protected from accidental modification. Since tuples are immutable, they also offer better performance and can be used as keys in dictionaries, unlike lists. This makes them ideal for representing constant data or using them in situations where data integrity is crucial."
      ],
      "metadata": {
        "id": "Uem908gSNfhk"
      }
    },
    {
      "cell_type": "markdown",
      "source": [
        "13. How do sets handle duplicate values in Python?\n",
        "\n",
        " -> In Python, sets automatically remove duplicate values. When you create a set, it only stores unique elements, even if you try to add the same value multiple times. This is because sets are based on hash tables, which do not allow duplicate keys."
      ],
      "metadata": {
        "id": "vGowMJGuN27p"
      }
    },
    {
      "cell_type": "markdown",
      "source": [
        "14. How does the “in” keyword work differently for lists and dictionaries?\n",
        "\n",
        " -> In Python, the in keyword is used to check for membership, but it works differently for lists and dictionaries:\n",
        "\n",
        "   In lists, the \"in\" keyword ensures that whether the data is imside the list or not.\n",
        "\n",
        "   Whereas, in dictonary the \"in\" keyword ensures that whethre the key exists or not."
      ],
      "metadata": {
        "id": "XDqocfolOZRd"
      }
    },
    {
      "cell_type": "markdown",
      "source": [
        "15. Can you modify the elements of a tuple? Explain why or why not?\n",
        "\n",
        " -> No, I cannot modify the elements of a tuple in Python because tuples are immutable. This means once a tuple is created, its contents cannot be changed, added to, or removed. Tuples are designed to protect data integrity. Immutability ensures that data stored in a tuple remains constant, which is useful for fixed collections like coordinates, dates, or keys in dictionaries. It also allows for performance optimizations and safe use in sets or as dictionary keys.\n"
      ],
      "metadata": {
        "id": "R4AZq22IPE-_"
      }
    },
    {
      "cell_type": "markdown",
      "source": [
        "16. What is a nested dictionary, and give an example of its use case?\n",
        "\n",
        " -> A nested dictionary in Python is a dictionary inside another dictionary. It allows you to store complex, hierarchical data using multiple levels of key-value pairs."
      ],
      "metadata": {
        "id": "d--sth1TPZ_A"
      }
    },
    {
      "cell_type": "code",
      "source": [
        "students = {\n",
        "    \"101\": {\"name\": \"Alice\", \"age\": 20, \"grade\": \"A\"},\n",
        "    \"102\": {\"name\": \"Bob\", \"age\": 21, \"grade\": \"B\"},\n",
        "}\n",
        "print(students[\"101\"][\"name\"])\n",
        "print(students[\"102\"][\"age\"])\n",
        "print(students[\"101\"][\"grade\"])"
      ],
      "metadata": {
        "colab": {
          "base_uri": "https://localhost:8080/"
        },
        "id": "aARZ7JJOPxXU",
        "outputId": "819ea562-92d7-4d9a-c7e1-9fb5b0b1c50f"
      },
      "execution_count": null,
      "outputs": [
        {
          "output_type": "stream",
          "name": "stdout",
          "text": [
            "Alice\n",
            "21\n",
            "A\n"
          ]
        }
      ]
    },
    {
      "cell_type": "markdown",
      "source": [
        "Nested dictionaries are useful when managing structured data, like storing user profiles, database records, JSON data, or any situation where items have multiple attributes."
      ],
      "metadata": {
        "id": "En8_WRyqP-RD"
      }
    },
    {
      "cell_type": "markdown",
      "source": [
        "17. Describe the time complexity of accessing elements in a dictionary.\n",
        "\n",
        " -> Accessing elements in a dictionary in Python has a time complexity of O(1) on average, meaning it takes constant time regardless of the dictionary's size. This efficiency comes from the hash table structure used by dictionaries, where each key is hashed to compute its storage index.\n",
        "\n",
        "  However, in rare cases—like when many keys have the same hash (causing collisions)—the time complexity can degrade to O(n) in the worst case. But Python's hashing algorithm is optimized to minimize such collisions, so dictionary lookups are typically very fast."
      ],
      "metadata": {
        "id": "5Wv-WzpnQHT7"
      }
    },
    {
      "cell_type": "markdown",
      "source": [
        "18. In what situations are lists preferred over dictionaries?\n",
        "\n",
        " -> Lists are preferred over dictionaries in situations where:\n",
        "\n",
        "    1. Order matters – Lists maintain the order of elements, useful for sequences or when position is important (e.g., indexing, slicing).\n",
        "\n",
        "    2. Simple collections – When storing a group of items without the need for key-value pairs (e.g., a list of names or numbers).\n",
        "\n",
        "    3. Iteration by position – If you need to loop over items based on their index.\n",
        "\n",
        "    4. Duplicates are allowed – Lists can store duplicate values, while dictionary keys must be unique.\n",
        "\n",
        "    5. Less memory usage – For small or simple datasets, lists are usually more memory-efficient than dictionaries.\n",
        "\n"
      ],
      "metadata": {
        "id": "814yoUaMQaf6"
      }
    },
    {
      "cell_type": "markdown",
      "source": [
        "19. Why are dictionaries considered unordered, and how does that affect data retrieval?\n",
        "\n",
        " -> Dictionaries in Python are considered unordered collections because they are implemented using hash tables, which do not store elements in any predictable sequence. This means that the order in which key-value pairs are inserted is not guaranteed to be preserved when the dictionary is accessed or iterated over. As a result, elements cannot be retrieved based on their position, unlike lists. Instead, data retrieval in dictionaries is based solely on unique keys, allowing for fast and efficient access but not positional ordering. This unordered nature affects how data is processed, especially in tasks where the sequence of items is important, and emphasizes that dictionaries are best suited for applications where key-based lookup is required rather than ordered data handling."
      ],
      "metadata": {
        "id": "uASx9lK0Qzym"
      }
    },
    {
      "cell_type": "markdown",
      "source": [
        "20. Explain the difference between a list and a dictionary in terms of data retrieval.\n",
        "\n",
        " -> The key difference between a list and a dictionary in terms of data retrieval lies in how data is accessed. In a list, elements are retrieved using integer indexes that represent their position in the sequence (e.g., list[0] for the first item). This makes lists suitable for ordered data where the position matters. In contrast, a dictionary retrieves values using unique keys, not positions (e.g., dict[\"name\"]), allowing for faster lookups based on meaningful identifiers. While list access is index-based and order-sensitive, dictionary access is key-based and optimized for quick, direct retrieval of data.\n"
      ],
      "metadata": {
        "id": "pD6DtfSgRf3P"
      }
    },
    {
      "cell_type": "markdown",
      "source": [
        "**Code Based Questions**"
      ],
      "metadata": {
        "id": "rzGpGES8RyL6"
      }
    },
    {
      "cell_type": "markdown",
      "source": [
        "1. Write a code to create a string with your name and print it."
      ],
      "metadata": {
        "id": "C7KXIsNUR3jy"
      }
    },
    {
      "cell_type": "code",
      "source": [
        "my_str=\"Hey, I am Uttamraj Singh\"\n",
        "print(my_str)"
      ],
      "metadata": {
        "colab": {
          "base_uri": "https://localhost:8080/"
        },
        "id": "PeSce46GSCgz",
        "outputId": "0427801e-9b12-4c84-ae3e-458f7a20a3ab"
      },
      "execution_count": null,
      "outputs": [
        {
          "output_type": "stream",
          "name": "stdout",
          "text": [
            "Hey, I am Uttamraj Singh\n"
          ]
        }
      ]
    },
    {
      "cell_type": "markdown",
      "source": [
        "2. Write a code to find the length of the string \"Hello World\""
      ],
      "metadata": {
        "id": "kvXsrN9USUH9"
      }
    },
    {
      "cell_type": "code",
      "source": [
        "my_str= \"Hello World\"\n",
        "print(len(my_str))\n",
        "\n"
      ],
      "metadata": {
        "id": "iOnMDt9WSb9W",
        "colab": {
          "base_uri": "https://localhost:8080/"
        },
        "outputId": "e4c9178c-2354-4dbd-ab6f-48aa986d2c63"
      },
      "execution_count": 1,
      "outputs": [
        {
          "output_type": "stream",
          "name": "stdout",
          "text": [
            "11\n"
          ]
        }
      ]
    },
    {
      "cell_type": "code",
      "source": [
        "from google.colab import drive\n",
        "drive.mount('/content/drive')"
      ],
      "metadata": {
        "id": "MQmuqHZvUJ5Q",
        "colab": {
          "base_uri": "https://localhost:8080/"
        },
        "outputId": "2c64afa8-4f63-4412-d2a8-ba8868743fe1"
      },
      "execution_count": 3,
      "outputs": [
        {
          "output_type": "stream",
          "name": "stdout",
          "text": [
            "Mounted at /content/drive\n"
          ]
        }
      ]
    },
    {
      "cell_type": "markdown",
      "source": [
        "3. Write a code to slice the first 3 characters from the string \"Python Programming\"."
      ],
      "metadata": {
        "id": "tRCUbZIiS3GR"
      }
    },
    {
      "cell_type": "code",
      "source": [
        "my_str=\"Python Programming\"\n",
        "print(my_str[:3])"
      ],
      "metadata": {
        "id": "i4RQrgyNS-ki",
        "colab": {
          "base_uri": "https://localhost:8080/"
        },
        "outputId": "61815a85-f9da-40ef-a08d-be1b9cd099d9"
      },
      "execution_count": 2,
      "outputs": [
        {
          "output_type": "stream",
          "name": "stdout",
          "text": [
            "Pyt\n"
          ]
        }
      ]
    },
    {
      "cell_type": "markdown",
      "source": [
        "4. Write a code to convert the string \"hello\" to uppercase."
      ],
      "metadata": {
        "id": "hEhjrV6XWEFJ"
      }
    },
    {
      "cell_type": "code",
      "source": [
        "my_str=\"hello\"\n",
        "my_str=my_str.upper()\n",
        "print(my_str)"
      ],
      "metadata": {
        "colab": {
          "base_uri": "https://localhost:8080/"
        },
        "id": "bROoEwxoWJ0D",
        "outputId": "a537949d-434c-4d09-bfd6-94217a136a6b"
      },
      "execution_count": 4,
      "outputs": [
        {
          "output_type": "stream",
          "name": "stdout",
          "text": [
            "HELLO\n"
          ]
        }
      ]
    },
    {
      "cell_type": "markdown",
      "source": [
        "5. Write a code to replace the word \"apple\" with \"orange\" in the string \"I like apple\"."
      ],
      "metadata": {
        "id": "0btBYYIAWQ-K"
      }
    },
    {
      "cell_type": "code",
      "source": [
        "my_str=\"I like apple\"\n",
        "my_str=my_str.replace(\"apple\",\"orange\")\n",
        "print(my_str)"
      ],
      "metadata": {
        "colab": {
          "base_uri": "https://localhost:8080/"
        },
        "id": "STksNRWfWYm6",
        "outputId": "3229fd46-49be-4df1-9f27-d5a741e63e56"
      },
      "execution_count": 5,
      "outputs": [
        {
          "output_type": "stream",
          "name": "stdout",
          "text": [
            "I like orange\n"
          ]
        }
      ]
    },
    {
      "cell_type": "markdown",
      "source": [
        "6. Write a code to create a list with numbers 1 to 5 and print it."
      ],
      "metadata": {
        "id": "0K7oVW1CWfrt"
      }
    },
    {
      "cell_type": "code",
      "source": [
        "my_list=[1,2,3,4,5]\n",
        "print(my_list)"
      ],
      "metadata": {
        "colab": {
          "base_uri": "https://localhost:8080/"
        },
        "id": "b9SmTjveWnGs",
        "outputId": "9b7fac1d-d96c-4449-a6fd-dc3a65b0b93f"
      },
      "execution_count": 6,
      "outputs": [
        {
          "output_type": "stream",
          "name": "stdout",
          "text": [
            "[1, 2, 3, 4, 5]\n"
          ]
        }
      ]
    },
    {
      "cell_type": "markdown",
      "source": [
        "7. Write a code to append the number 10 to the list [1, 2, 3, 4]."
      ],
      "metadata": {
        "id": "sBlYCciyWsnD"
      }
    },
    {
      "cell_type": "code",
      "source": [
        "my_list=[1,2,3,4]\n",
        "my_list.append(10)\n",
        "print(my_list)"
      ],
      "metadata": {
        "colab": {
          "base_uri": "https://localhost:8080/"
        },
        "id": "OxsaUERNWxfy",
        "outputId": "6d0c9e29-e6f3-4709-c23f-3c8d45066357"
      },
      "execution_count": 7,
      "outputs": [
        {
          "output_type": "stream",
          "name": "stdout",
          "text": [
            "[1, 2, 3, 4, 10]\n"
          ]
        }
      ]
    },
    {
      "cell_type": "markdown",
      "source": [
        "8. Write a code to remove the number 3 from the list [1, 2, 3, 4, 5]."
      ],
      "metadata": {
        "id": "ty45ad1HW7sd"
      }
    },
    {
      "cell_type": "code",
      "source": [
        "my_list= [1,2,3,4,5]\n",
        "my_list.remove(3)\n",
        "print(my_list)"
      ],
      "metadata": {
        "colab": {
          "base_uri": "https://localhost:8080/"
        },
        "id": "Z1KO7f2DXBB-",
        "outputId": "f71b9119-c115-4f78-cd28-8c3336b6c636"
      },
      "execution_count": 8,
      "outputs": [
        {
          "output_type": "stream",
          "name": "stdout",
          "text": [
            "[1, 2, 4, 5]\n"
          ]
        }
      ]
    },
    {
      "cell_type": "markdown",
      "source": [
        "9. Write a code to access the second element in the list ['a', 'b', 'c', 'd']."
      ],
      "metadata": {
        "id": "l9isZXmvXFuP"
      }
    },
    {
      "cell_type": "code",
      "source": [
        "my_list=['a','b','c','d']\n",
        "print(\"the second element is\", my_list[1])"
      ],
      "metadata": {
        "colab": {
          "base_uri": "https://localhost:8080/"
        },
        "id": "uSt47VtxXMSE",
        "outputId": "bd4ea944-3eaa-4cab-f9ac-006eefff3279"
      },
      "execution_count": 10,
      "outputs": [
        {
          "output_type": "stream",
          "name": "stdout",
          "text": [
            "the second element is b\n"
          ]
        }
      ]
    },
    {
      "cell_type": "markdown",
      "source": [
        "10. Write a code to reverse the list [10, 20, 30, 40, 50]."
      ],
      "metadata": {
        "id": "Wr0CKoN5Xc5z"
      }
    },
    {
      "cell_type": "code",
      "source": [
        "my_list=[10,20,30,40,50]\n",
        "my_list.reverse()\n",
        "print(my_list)\n"
      ],
      "metadata": {
        "colab": {
          "base_uri": "https://localhost:8080/"
        },
        "id": "zwjaj85rXjLI",
        "outputId": "b6364297-b645-4f93-ae5a-4662ff6de1fd"
      },
      "execution_count": 11,
      "outputs": [
        {
          "output_type": "stream",
          "name": "stdout",
          "text": [
            "[50, 40, 30, 20, 10]\n"
          ]
        }
      ]
    },
    {
      "cell_type": "markdown",
      "source": [
        "11. Write a code to create a tuple with the elements 100, 200, 300 and print it."
      ],
      "metadata": {
        "id": "Hdvm3R94XuLV"
      }
    },
    {
      "cell_type": "code",
      "source": [
        "my_tuple=(100,200,300)\n",
        "print(my_tuple)"
      ],
      "metadata": {
        "colab": {
          "base_uri": "https://localhost:8080/"
        },
        "id": "pxzKOLnDXz6k",
        "outputId": "d50f53cf-f958-40be-9566-fbea3bb98f1e"
      },
      "execution_count": 12,
      "outputs": [
        {
          "output_type": "stream",
          "name": "stdout",
          "text": [
            "(100, 200, 300)\n"
          ]
        }
      ]
    },
    {
      "cell_type": "markdown",
      "source": [
        "12. Write a code to access the second-to-last element of the tuple ('red', 'green', 'blue', 'yellow')."
      ],
      "metadata": {
        "id": "W44xS7EqX4dj"
      }
    },
    {
      "cell_type": "code",
      "source": [
        "my_tuple=('red','green','blue','yellow')\n",
        "print(my_tuple[1:])\n"
      ],
      "metadata": {
        "colab": {
          "base_uri": "https://localhost:8080/"
        },
        "id": "f-ba59UXX9dx",
        "outputId": "7e855892-5f54-4ff3-efcd-990a9d97802c"
      },
      "execution_count": 18,
      "outputs": [
        {
          "output_type": "stream",
          "name": "stdout",
          "text": [
            "('green', 'blue', 'yellow')\n"
          ]
        }
      ]
    },
    {
      "cell_type": "markdown",
      "source": [
        "13. Write a code to find the minimum number in the tuple (10, 20, 5, 15)."
      ],
      "metadata": {
        "id": "wnk5n4vLYjaC"
      }
    },
    {
      "cell_type": "code",
      "source": [
        "my_tuple=(10,20,5,15)\n",
        "print(min(my_tuple))"
      ],
      "metadata": {
        "colab": {
          "base_uri": "https://localhost:8080/"
        },
        "id": "hyjbAGGDYoxh",
        "outputId": "d7e3df70-70ad-44a2-b420-0163327f954e"
      },
      "execution_count": 19,
      "outputs": [
        {
          "output_type": "stream",
          "name": "stdout",
          "text": [
            "5\n"
          ]
        }
      ]
    },
    {
      "cell_type": "markdown",
      "source": [
        "14. Write a code to find the index of the element \"cat\" in the tuple ('dog', 'cat', 'rabbit')."
      ],
      "metadata": {
        "id": "xfpSYiBXYse0"
      }
    },
    {
      "cell_type": "code",
      "source": [
        "my_tuple=('dog', 'cat', 'rabbit')\n",
        "print(my_tuple.index('cat'))"
      ],
      "metadata": {
        "colab": {
          "base_uri": "https://localhost:8080/"
        },
        "id": "5CCz6rQMYw-l",
        "outputId": "7a83a817-5c08-4eb7-a50c-008d065a0f40"
      },
      "execution_count": 20,
      "outputs": [
        {
          "output_type": "stream",
          "name": "stdout",
          "text": [
            "1\n"
          ]
        }
      ]
    },
    {
      "cell_type": "markdown",
      "source": [
        "15. Write a code to create a tuple containing three different fruits and check if \"kiwi\" is in it."
      ],
      "metadata": {
        "id": "08JxUZhTZDCM"
      }
    },
    {
      "cell_type": "code",
      "source": [
        "my_tuple=(\"apple\",\"banana\",\"kiwi\")\n",
        "print(\"kiwi\" in my_tuple)"
      ],
      "metadata": {
        "colab": {
          "base_uri": "https://localhost:8080/"
        },
        "id": "NV9drLUUZJt7",
        "outputId": "056489eb-a527-4c50-c855-76183f724c25"
      },
      "execution_count": 21,
      "outputs": [
        {
          "output_type": "stream",
          "name": "stdout",
          "text": [
            "True\n"
          ]
        }
      ]
    },
    {
      "cell_type": "markdown",
      "source": [
        "16. Write a code to create a set with the elements 'a', 'b', 'c' and print it."
      ],
      "metadata": {
        "id": "WPGQdakVZQ8Q"
      }
    },
    {
      "cell_type": "code",
      "source": [
        "my_set=('a','b','c')\n",
        "print(my_set)"
      ],
      "metadata": {
        "colab": {
          "base_uri": "https://localhost:8080/"
        },
        "id": "5N1gFAlUZZQh",
        "outputId": "26c1f3cd-60f1-4539-bf8e-280f3ec03d6c"
      },
      "execution_count": 24,
      "outputs": [
        {
          "output_type": "stream",
          "name": "stdout",
          "text": [
            "('a', 'b', 'c')\n"
          ]
        }
      ]
    },
    {
      "cell_type": "markdown",
      "source": [
        "17. Write a code to clear all elements from the set {1, 2, 3, 4, 5}."
      ],
      "metadata": {
        "id": "gp9FvseAZoAx"
      }
    },
    {
      "cell_type": "code",
      "source": [
        "my_set={1,2,3,4,5}\n",
        "my_set.clear()\n",
        "print(my_set)"
      ],
      "metadata": {
        "id": "SYtHSwqCZsAu"
      },
      "execution_count": null,
      "outputs": []
    },
    {
      "cell_type": "markdown",
      "source": [
        "18. Write a code to remove the element 4 from the set {1, 2, 3, 4}."
      ],
      "metadata": {
        "id": "aQVWOAa2aFBl"
      }
    },
    {
      "cell_type": "code",
      "source": [
        "my_set={1,2,3,4}\n",
        "my_set.remove(4)\n",
        "print(my_set)"
      ],
      "metadata": {
        "colab": {
          "base_uri": "https://localhost:8080/"
        },
        "id": "-Oo0i0waaJ4N",
        "outputId": "59863bf5-7649-4bd0-d5a8-73b8247a1f7a"
      },
      "execution_count": 25,
      "outputs": [
        {
          "output_type": "stream",
          "name": "stdout",
          "text": [
            "{1, 2, 3}\n"
          ]
        }
      ]
    },
    {
      "cell_type": "markdown",
      "source": [
        "19. Write a code to find the union of two sets {1, 2, 3} and {3, 4, 5}."
      ],
      "metadata": {
        "id": "FSljpUIxaM1_"
      }
    },
    {
      "cell_type": "code",
      "source": [
        "my_set1= {1,2,3}\n",
        "my_set2= {3,4,5}\n",
        "print(my_set1.union(my_set2))"
      ],
      "metadata": {
        "colab": {
          "base_uri": "https://localhost:8080/"
        },
        "id": "VL83pdc-aQWk",
        "outputId": "9e6aae41-9888-482e-fdc7-ec24e1418945"
      },
      "execution_count": 26,
      "outputs": [
        {
          "output_type": "stream",
          "name": "stdout",
          "text": [
            "{1, 2, 3, 4, 5}\n"
          ]
        }
      ]
    },
    {
      "cell_type": "markdown",
      "source": [
        "20. Write a code to find the intersection of two sets {1, 2, 3} and {2, 3, 4}."
      ],
      "metadata": {
        "id": "C4cQbKk4aWxz"
      }
    },
    {
      "cell_type": "code",
      "source": [
        "my_set1={1,2,3}\n",
        "my_set2={2,3,4}\n",
        "print(my_set1.intersection(my_set2))"
      ],
      "metadata": {
        "colab": {
          "base_uri": "https://localhost:8080/"
        },
        "id": "YwHnvHunaaki",
        "outputId": "68b92068-14b9-4cb8-ef49-882943173bc6"
      },
      "execution_count": 27,
      "outputs": [
        {
          "output_type": "stream",
          "name": "stdout",
          "text": [
            "{2, 3}\n"
          ]
        }
      ]
    },
    {
      "cell_type": "markdown",
      "source": [
        "21. Write a code to create a dictionary with the keys \"name\", \"age\", and \"city\", and print it."
      ],
      "metadata": {
        "id": "6hZclIYsanOl"
      }
    },
    {
      "cell_type": "code",
      "source": [
        "my_dict= {\"name\":\"Uttamraj\",\"age\":19,\"city\":\"Delhi\"}\n",
        "print(my_dict)"
      ],
      "metadata": {
        "colab": {
          "base_uri": "https://localhost:8080/"
        },
        "id": "WYJ8z4qwarU2",
        "outputId": "cf14c37a-47bd-45e5-cd67-55a81ca6a0d3"
      },
      "execution_count": 29,
      "outputs": [
        {
          "output_type": "stream",
          "name": "stdout",
          "text": [
            "{'name': 'Uttamraj', 'age': 19, 'city': 'Delhi'}\n"
          ]
        }
      ]
    },
    {
      "cell_type": "markdown",
      "source": [
        "22. Write a code to add a new key-value pair \"country\": \"USA\" to the dictionary {'name': 'John', 'age': 25}."
      ],
      "metadata": {
        "id": "lp6xiYMqa2li"
      }
    },
    {
      "cell_type": "code",
      "source": [
        "my_dict={'name': 'John', 'age': 25}\n",
        "my_dict[\"country\"]=\"USA\"\n",
        "print(my_dict)"
      ],
      "metadata": {
        "colab": {
          "base_uri": "https://localhost:8080/"
        },
        "id": "URgz0t5Ca6F7",
        "outputId": "3c307f13-e53b-4cb5-b6e1-25b21704828e"
      },
      "execution_count": 30,
      "outputs": [
        {
          "output_type": "stream",
          "name": "stdout",
          "text": [
            "{'name': 'John', 'age': 25, 'country': 'USA'}\n"
          ]
        }
      ]
    },
    {
      "cell_type": "markdown",
      "source": [
        "23. Write a code to access the value associated with the key \"name\" in the dictionary {'name': 'Alice', 'age': 30}."
      ],
      "metadata": {
        "id": "uZca42qLa-uV"
      }
    },
    {
      "cell_type": "code",
      "source": [
        "my_dict= {'name': 'Alice', 'age': 30}\n",
        "print(my_dict[\"name\"])"
      ],
      "metadata": {
        "colab": {
          "base_uri": "https://localhost:8080/"
        },
        "id": "tYQ_q-oQbI8K",
        "outputId": "15158001-c9f5-4820-ac2e-bf24d26a5959"
      },
      "execution_count": 31,
      "outputs": [
        {
          "output_type": "stream",
          "name": "stdout",
          "text": [
            "Alice\n"
          ]
        }
      ]
    },
    {
      "cell_type": "markdown",
      "source": [
        "24. Write a code to remove the key \"age\" from the dictionary {'name': 'Bob', 'age': 22, 'city': 'New York'}."
      ],
      "metadata": {
        "id": "g-moc2CpbNqQ"
      }
    },
    {
      "cell_type": "code",
      "source": [
        "my_dict= {\"name\": \"Bob\", \"age\":\"22\", \"city\": \"New York\"}\n",
        "my_dict.pop(\"age\")\n",
        "print(my_dict)"
      ],
      "metadata": {
        "colab": {
          "base_uri": "https://localhost:8080/"
        },
        "id": "LhAbwKambSQ7",
        "outputId": "374e5648-731d-4810-eab0-3c314e26003c"
      },
      "execution_count": 32,
      "outputs": [
        {
          "output_type": "stream",
          "name": "stdout",
          "text": [
            "{'name': 'Bob', 'city': 'New York'}\n"
          ]
        }
      ]
    },
    {
      "cell_type": "markdown",
      "source": [
        "25. Write a code to check if the key \"city\" exists in the dictionary {'name': 'Alice', 'city': 'Paris'}."
      ],
      "metadata": {
        "id": "pGuTzgVSblpX"
      }
    },
    {
      "cell_type": "code",
      "source": [
        "my_dict= {\"name\": \"Alice\", \"city\": \"Paris\"}\n",
        "print(\"city\" in my_dict)"
      ],
      "metadata": {
        "colab": {
          "base_uri": "https://localhost:8080/"
        },
        "id": "4BH7IQYobpLL",
        "outputId": "6d45817f-ed20-404d-e0c1-cf5428929d21"
      },
      "execution_count": 33,
      "outputs": [
        {
          "output_type": "stream",
          "name": "stdout",
          "text": [
            "True\n"
          ]
        }
      ]
    },
    {
      "cell_type": "markdown",
      "source": [
        "26. Write a code to create a list, a tuple, and a dictionary, and print them all.\n"
      ],
      "metadata": {
        "id": "9kgfhA9pb7Ov"
      }
    },
    {
      "cell_type": "code",
      "source": [
        "my_list=[1,2,3,4]\n",
        "my_tuple=(1,2,3,4)\n",
        "my_dict={\"name\":\"Uttamraj\",\"age\":19,\"city\":\"Delhi\"}\n",
        "print(my_list)\n",
        "print(my_tuple)\n",
        "print(my_dict)"
      ],
      "metadata": {
        "colab": {
          "base_uri": "https://localhost:8080/"
        },
        "id": "hLWqCmA-b_Dl",
        "outputId": "50d8682e-7cc7-4d2d-de9d-29a15af9938e"
      },
      "execution_count": 35,
      "outputs": [
        {
          "output_type": "stream",
          "name": "stdout",
          "text": [
            "[1, 2, 3, 4]\n",
            "(1, 2, 3, 4)\n",
            "{'name': 'Uttamraj', 'age': 19, 'city': 'Delhi'}\n"
          ]
        }
      ]
    },
    {
      "cell_type": "markdown",
      "source": [
        "27. Write a code to create a list of 5 random numbers between 1 and 100, sort it in ascending order, and print the result.(replaced)"
      ],
      "metadata": {
        "id": "jACFLxrBcJxj"
      }
    },
    {
      "cell_type": "code",
      "source": [
        "import random\n",
        "random_list = random.sample(range(1, 101), 5)\n",
        "random_list.sort()\n",
        "print(\"Sorted list:\", random_list)\n"
      ],
      "metadata": {
        "colab": {
          "base_uri": "https://localhost:8080/"
        },
        "id": "fbsVh8iwcQu5",
        "outputId": "39d0673b-2d4d-453b-97e1-9149ca51e526"
      },
      "execution_count": 64,
      "outputs": [
        {
          "output_type": "stream",
          "name": "stdout",
          "text": [
            "Sorted list: [20, 47, 80, 90, 99]\n"
          ]
        }
      ]
    },
    {
      "cell_type": "markdown",
      "source": [
        "28. Write a code to create a list with strings and print the element at the third index."
      ],
      "metadata": {
        "id": "TDxqJjcrdpqq"
      }
    },
    {
      "cell_type": "code",
      "source": [
        "my_list= ['h', 'e','l','l','o']\n",
        "print(my_list[3])"
      ],
      "metadata": {
        "colab": {
          "base_uri": "https://localhost:8080/"
        },
        "id": "VfWZnPlcdtxf",
        "outputId": "b6b9bae9-e73a-4953-f5b7-46497970302e"
      },
      "execution_count": 61,
      "outputs": [
        {
          "output_type": "stream",
          "name": "stdout",
          "text": [
            "l\n"
          ]
        }
      ]
    },
    {
      "cell_type": "markdown",
      "source": [
        "29. Write a code to combine two dictionaries into one and print the result."
      ],
      "metadata": {
        "id": "Ws23ObVBd9Wx"
      }
    },
    {
      "cell_type": "code",
      "source": [
        "my_dict1= {\"name 1\":\"Uttamraj\",\"age 1\":19,\"city 1\":\"Delhi\"}\n",
        "my_dict2= {\"name 2\":\"Saumya\",\"age 2\":18,\"city 2\":\"Haridwar\"}\n",
        "print(my_dict1, my_dict2)"
      ],
      "metadata": {
        "colab": {
          "base_uri": "https://localhost:8080/"
        },
        "id": "32hX5TQveAnZ",
        "outputId": "78c8cda6-96ac-4a54-db60-7159bf58387f"
      },
      "execution_count": 55,
      "outputs": [
        {
          "output_type": "stream",
          "name": "stdout",
          "text": [
            "{'name 1': 'Uttamraj', 'age 1': 19, 'city 1': 'Delhi'} {'name 2': 'Saumya', 'age 2': 18, 'city 2': 'Haridwar'}\n"
          ]
        }
      ]
    },
    {
      "cell_type": "markdown",
      "source": [
        "30. Write a code to convert a list of strings into a set."
      ],
      "metadata": {
        "id": "Ph1VnSIIfbr5"
      }
    },
    {
      "cell_type": "code",
      "source": [
        "string_list = [\"Tejas\", \"Sukhoi\", \"Rafale\", \"Mirage\", \"Jaguar\"]\n",
        "string_set = set(string_list)\n",
        "print(\"Set of strings:\", string_set)\n"
      ],
      "metadata": {
        "id": "Y5f_5cTVffQn",
        "outputId": "b19bc28b-b14f-4e3a-b7a5-02f065ead8c0",
        "colab": {
          "base_uri": "https://localhost:8080/"
        }
      },
      "execution_count": 60,
      "outputs": [
        {
          "output_type": "stream",
          "name": "stdout",
          "text": [
            "Set of strings: {'Tejas', 'Mirage', 'Rafale', 'Jaguar', 'Sukhoi'}\n"
          ]
        }
      ]
    }
  ]
}